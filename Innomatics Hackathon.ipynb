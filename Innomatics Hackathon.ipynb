{
 "cells": [
  {
   "cell_type": "code",
   "execution_count": 1,
   "id": "9c5eb81b",
   "metadata": {},
   "outputs": [],
   "source": [
    "# import the required libraries \n",
    "import pandas as pd\n",
    "import numpy as np\n",
    "import matplotlib.pyplot as plt\n",
    "%matplotlib inline"
   ]
  },
  {
   "cell_type": "code",
   "execution_count": 3,
   "id": "63f00734",
   "metadata": {
    "scrolled": false
   },
   "outputs": [],
   "source": [
    "# Load the dataset\n",
    "data = pd.read_csv('dataframe_innomatics.csv')"
   ]
  },
  {
   "cell_type": "code",
   "execution_count": 6,
   "id": "0c3a9670",
   "metadata": {},
   "outputs": [
    {
     "data": {
      "text/html": [
       "<div>\n",
       "<style scoped>\n",
       "    .dataframe tbody tr th:only-of-type {\n",
       "        vertical-align: middle;\n",
       "    }\n",
       "\n",
       "    .dataframe tbody tr th {\n",
       "        vertical-align: top;\n",
       "    }\n",
       "\n",
       "    .dataframe thead th {\n",
       "        text-align: right;\n",
       "    }\n",
       "</style>\n",
       "<table border=\"1\" class=\"dataframe\">\n",
       "  <thead>\n",
       "    <tr style=\"text-align: right;\">\n",
       "      <th></th>\n",
       "      <th>input</th>\n",
       "      <th>output</th>\n",
       "    </tr>\n",
       "  </thead>\n",
       "  <tbody>\n",
       "    <tr>\n",
       "      <th>0</th>\n",
       "      <td>-122.740667</td>\n",
       "      <td>-130.572085</td>\n",
       "    </tr>\n",
       "    <tr>\n",
       "      <th>1</th>\n",
       "      <td>-121.531419</td>\n",
       "      <td>-129.938929</td>\n",
       "    </tr>\n",
       "    <tr>\n",
       "      <th>2</th>\n",
       "      <td>-134.917019</td>\n",
       "      <td>-130.141832</td>\n",
       "    </tr>\n",
       "    <tr>\n",
       "      <th>3</th>\n",
       "      <td>-120.605951</td>\n",
       "      <td>-125.760932</td>\n",
       "    </tr>\n",
       "    <tr>\n",
       "      <th>4</th>\n",
       "      <td>-129.894781</td>\n",
       "      <td>-112.785214</td>\n",
       "    </tr>\n",
       "    <tr>\n",
       "      <th>...</th>\n",
       "      <td>...</td>\n",
       "      <td>...</td>\n",
       "    </tr>\n",
       "    <tr>\n",
       "      <th>1691</th>\n",
       "      <td>25.410184</td>\n",
       "      <td>-76.380902</td>\n",
       "    </tr>\n",
       "    <tr>\n",
       "      <th>1692</th>\n",
       "      <td>29.537304</td>\n",
       "      <td>-82.796934</td>\n",
       "    </tr>\n",
       "    <tr>\n",
       "      <th>1693</th>\n",
       "      <td>31.633331</td>\n",
       "      <td>-87.000000</td>\n",
       "    </tr>\n",
       "    <tr>\n",
       "      <th>1694</th>\n",
       "      <td>29.091458</td>\n",
       "      <td>-104.943052</td>\n",
       "    </tr>\n",
       "    <tr>\n",
       "      <th>1695</th>\n",
       "      <td>17.145296</td>\n",
       "      <td>-101.726894</td>\n",
       "    </tr>\n",
       "  </tbody>\n",
       "</table>\n",
       "<p>1696 rows × 2 columns</p>\n",
       "</div>"
      ],
      "text/plain": [
       "           input      output\n",
       "0    -122.740667 -130.572085\n",
       "1    -121.531419 -129.938929\n",
       "2    -134.917019 -130.141832\n",
       "3    -120.605951 -125.760932\n",
       "4    -129.894781 -112.785214\n",
       "...          ...         ...\n",
       "1691   25.410184  -76.380902\n",
       "1692   29.537304  -82.796934\n",
       "1693   31.633331  -87.000000\n",
       "1694   29.091458 -104.943052\n",
       "1695   17.145296 -101.726894\n",
       "\n",
       "[1696 rows x 2 columns]"
      ]
     },
     "execution_count": 6,
     "metadata": {},
     "output_type": "execute_result"
    }
   ],
   "source": [
    "data.dropna(inplace=True)\n",
    "data"
   ]
  },
  {
   "cell_type": "code",
   "execution_count": 5,
   "id": "f3c28c94",
   "metadata": {},
   "outputs": [
    {
     "data": {
      "text/plain": [
       "input     0\n",
       "output    0\n",
       "dtype: int64"
      ]
     },
     "execution_count": 5,
     "metadata": {},
     "output_type": "execute_result"
    }
   ],
   "source": [
    "data.isnull().sum()"
   ]
  },
  {
   "cell_type": "code",
   "execution_count": 7,
   "id": "348e270a",
   "metadata": {},
   "outputs": [
    {
     "data": {
      "text/html": [
       "<div>\n",
       "<style scoped>\n",
       "    .dataframe tbody tr th:only-of-type {\n",
       "        vertical-align: middle;\n",
       "    }\n",
       "\n",
       "    .dataframe tbody tr th {\n",
       "        vertical-align: top;\n",
       "    }\n",
       "\n",
       "    .dataframe thead th {\n",
       "        text-align: right;\n",
       "    }\n",
       "</style>\n",
       "<table border=\"1\" class=\"dataframe\">\n",
       "  <thead>\n",
       "    <tr style=\"text-align: right;\">\n",
       "      <th></th>\n",
       "      <th>input</th>\n",
       "      <th>output</th>\n",
       "    </tr>\n",
       "  </thead>\n",
       "  <tbody>\n",
       "    <tr>\n",
       "      <th>0</th>\n",
       "      <td>-122.74</td>\n",
       "      <td>-130.57</td>\n",
       "    </tr>\n",
       "    <tr>\n",
       "      <th>1</th>\n",
       "      <td>-121.53</td>\n",
       "      <td>-129.94</td>\n",
       "    </tr>\n",
       "    <tr>\n",
       "      <th>2</th>\n",
       "      <td>-134.92</td>\n",
       "      <td>-130.14</td>\n",
       "    </tr>\n",
       "    <tr>\n",
       "      <th>3</th>\n",
       "      <td>-120.61</td>\n",
       "      <td>-125.76</td>\n",
       "    </tr>\n",
       "    <tr>\n",
       "      <th>4</th>\n",
       "      <td>-129.89</td>\n",
       "      <td>-112.79</td>\n",
       "    </tr>\n",
       "    <tr>\n",
       "      <th>...</th>\n",
       "      <td>...</td>\n",
       "      <td>...</td>\n",
       "    </tr>\n",
       "    <tr>\n",
       "      <th>1691</th>\n",
       "      <td>25.41</td>\n",
       "      <td>-76.38</td>\n",
       "    </tr>\n",
       "    <tr>\n",
       "      <th>1692</th>\n",
       "      <td>29.54</td>\n",
       "      <td>-82.80</td>\n",
       "    </tr>\n",
       "    <tr>\n",
       "      <th>1693</th>\n",
       "      <td>31.63</td>\n",
       "      <td>-87.00</td>\n",
       "    </tr>\n",
       "    <tr>\n",
       "      <th>1694</th>\n",
       "      <td>29.09</td>\n",
       "      <td>-104.94</td>\n",
       "    </tr>\n",
       "    <tr>\n",
       "      <th>1695</th>\n",
       "      <td>17.15</td>\n",
       "      <td>-101.73</td>\n",
       "    </tr>\n",
       "  </tbody>\n",
       "</table>\n",
       "<p>1696 rows × 2 columns</p>\n",
       "</div>"
      ],
      "text/plain": [
       "       input  output\n",
       "0    -122.74 -130.57\n",
       "1    -121.53 -129.94\n",
       "2    -134.92 -130.14\n",
       "3    -120.61 -125.76\n",
       "4    -129.89 -112.79\n",
       "...      ...     ...\n",
       "1691   25.41  -76.38\n",
       "1692   29.54  -82.80\n",
       "1693   31.63  -87.00\n",
       "1694   29.09 -104.94\n",
       "1695   17.15 -101.73\n",
       "\n",
       "[1696 rows x 2 columns]"
      ]
     },
     "execution_count": 7,
     "metadata": {},
     "output_type": "execute_result"
    }
   ],
   "source": [
    "data.round(2)"
   ]
  },
  {
   "cell_type": "code",
   "execution_count": 31,
   "id": "3cf780d9",
   "metadata": {},
   "outputs": [
    {
     "name": "stderr",
     "output_type": "stream",
     "text": [
      "C:\\Users\\user\\anaconda3\\lib\\site-packages\\seaborn\\_decorators.py:36: FutureWarning: Pass the following variable as a keyword arg: x. From version 0.12, the only valid positional argument will be `data`, and passing other arguments without an explicit keyword will result in an error or misinterpretation.\n",
      "  warnings.warn(\n"
     ]
    },
    {
     "data": {
      "text/plain": [
       "<AxesSubplot:xlabel='input'>"
      ]
     },
     "execution_count": 31,
     "metadata": {},
     "output_type": "execute_result"
    },
    {
     "data": {
      "image/png": "[encoded data removed]",
      "text/plain": [
       "<Figure size 432x288 with 1 Axes>"
      ]
     },
     "metadata": {
      "needs_background": "light"
     },
     "output_type": "display_data"
    }
   ],
   "source": [
    "# Box Plot\n",
    "import seaborn as sns\n",
    "sns.boxplot(data['input'])"
   ]
  },
  {
   "cell_type": "code",
   "execution_count": 32,
   "id": "8e05f3ec",
   "metadata": {},
   "outputs": [
    {
     "name": "stderr",
     "output_type": "stream",
     "text": [
      "C:\\Users\\user\\anaconda3\\lib\\site-packages\\seaborn\\_decorators.py:36: FutureWarning: Pass the following variable as a keyword arg: x. From version 0.12, the only valid positional argument will be `data`, and passing other arguments without an explicit keyword will result in an error or misinterpretation.\n",
      "  warnings.warn(\n"
     ]
    },
    {
     "data": {
      "text/plain": [
       "<AxesSubplot:xlabel='output'>"
      ]
     },
     "execution_count": 32,
     "metadata": {},
     "output_type": "execute_result"
    },
    {
     "data": {
      "image/png": "[encoded data removed]",
      "text/plain": [
       "<Figure size 432x288 with 1 Axes>"
      ]
     },
     "metadata": {
      "needs_background": "light"
     },
     "output_type": "display_data"
    }
   ],
   "source": [
    "sns.boxplot(data['output'])"
   ]
  },
  {
   "cell_type": "code",
   "execution_count": 33,
   "id": "a252376b",
   "metadata": {},
   "outputs": [
    {
     "name": "stdout",
     "output_type": "stream",
     "text": [
      "(array([ 335,  339,  341,  342,  343,  345,  346,  347,  348,  350,  351,\n",
      "        352,  353,  354,  355,  356,  357,  358,  359,  360,  361,  362,\n",
      "        363,  453,  456,  457,  460,  461,  462,  463,  464,  465,  466,\n",
      "        467,  468,  470,  471,  472,  473,  474,  475,  476,  477,  478,\n",
      "        479,  480,  481,  482,  483,  484,  485,  486,  487,  488,  489,\n",
      "        490,  491,  492,  493,  494,  495,  496,  498, 1038, 1043, 1044,\n",
      "       1046, 1047, 1048, 1049, 1050, 1051, 1052, 1053, 1054, 1055, 1056,\n",
      "       1057, 1058, 1059, 1060, 1061, 1062, 1063, 1064, 1065, 1066, 1067,\n",
      "       1068, 1069, 1070, 1071, 1072, 1073, 1074, 1075, 1076, 1077, 1078,\n",
      "       1079, 1080, 1081, 1082, 1083, 1084, 1085, 1086, 1087, 1088, 1089,\n",
      "       1090, 1091, 1092, 1093, 1094, 1095, 1096, 1097, 1098, 1099, 1100,\n",
      "       1101, 1102, 1103, 1104, 1105, 1106, 1107, 1108, 1109, 1110, 1445,\n",
      "       1449, 1451, 1452, 1453, 1455, 1456, 1457, 1458, 1460, 1461, 1462,\n",
      "       1463, 1464, 1465, 1466, 1467, 1468, 1469, 1470, 1471, 1472, 1473],\n",
      "      dtype=int64),)\n"
     ]
    }
   ],
   "source": [
    "# Position of the Outlier\n",
    "print(np.where(data['output']>90))"
   ]
  },
  {
   "cell_type": "code",
   "execution_count": 40,
   "id": "8e847160",
   "metadata": {},
   "outputs": [
    {
     "name": "stdout",
     "output_type": "stream",
     "text": [
      "Old Shape:  (1696, 2)\n"
     ]
    }
   ],
   "source": [
    "# Detection\n",
    "# IQR\n",
    "Q1 = np.percentile(data['output'], 25, interpolation = 'midpoint')\n",
    "Q3 = np.percentile(data['output'], 75, interpolation = 'midpoint')\n",
    "IQR = Q3 - Q1\n",
    "\n",
    "print(\"Old Shape: \", data.shape)"
   ]
  },
  {
   "cell_type": "code",
   "execution_count": 41,
   "id": "c4d3341b",
   "metadata": {},
   "outputs": [
    {
     "name": "stdout",
     "output_type": "stream",
     "text": [
      "New Shape:  (1552, 2)\n"
     ]
    }
   ],
   "source": [
    "# Upper bound\n",
    "upper = np.where(data['output'] >= (Q3+1.5*IQR))\n",
    "# Lower bound\n",
    "lower = np.where(data['output'] <= (Q1-1.5*IQR))\n",
    " \n",
    "''' Removing the Outliers '''\n",
    "data.drop(upper[0], inplace = True)\n",
    "data.drop(lower[0], inplace = True)\n",
    " \n",
    "print(\"New Shape: \", data.shape)"
   ]
  },
  {
   "cell_type": "code",
   "execution_count": 39,
   "id": "523cae77",
   "metadata": {},
   "outputs": [
    {
     "data": {
      "text/plain": [
       "<AxesSubplot:xlabel='input', ylabel='output'>"
      ]
     },
     "execution_count": 39,
     "metadata": {},
     "output_type": "execute_result"
    },
    {
     "data": {
      "image/png": "[encoded data removed]",
      "text/plain": [
       "<Figure size 1080x720 with 1 Axes>"
      ]
     },
     "metadata": {
      "needs_background": "light"
     },
     "output_type": "display_data"
    }
   ],
   "source": [
    "# Scatter plot\n",
    "data.plot.scatter(x = 'input', y = 'output', color='blue', figsize = (15,10))"
   ]
  },
  {
   "cell_type": "code",
   "execution_count": 43,
   "id": "9988bd2b",
   "metadata": {},
   "outputs": [
    {
     "data": {
      "text/plain": [
       "<AxesSubplot:xlabel='input', ylabel='output'>"
      ]
     },
     "execution_count": 43,
     "metadata": {},
     "output_type": "execute_result"
    },
    {
     "data": {
      "image/png": "[encoded data removed]",
      "text/plain": [
       "<Figure size 1080x720 with 1 Axes>"
      ]
     },
     "metadata": {
      "needs_background": "light"
     },
     "output_type": "display_data"
    }
   ],
   "source": [
    "data.plot.scatter(x = 'input', y = 'output', color='blue', figsize = (15,10))"
   ]
  },
  {
   "cell_type": "code",
   "execution_count": 44,
   "id": "da3c6d54",
   "metadata": {},
   "outputs": [],
   "source": [
    "y = data['input'].values.reshape(-1, 1)\n",
    "X = data['output'].values.reshape(-1, 1)"
   ]
  },
  {
   "cell_type": "code",
   "execution_count": 45,
   "id": "dc34be86",
   "metadata": {},
   "outputs": [
    {
     "name": "stdout",
     "output_type": "stream",
     "text": [
      "(1241, 1)\n",
      "(1241, 1)\n",
      "(311, 1)\n",
      "(311, 1)\n"
     ]
    }
   ],
   "source": [
    "#Training a Linear Regression Model\n",
    "from sklearn.model_selection import train_test_split\n",
    "X_train, X_test, y_train, y_test = train_test_split(X, y, test_size = 0.2, random_state = 0)\n",
    "print(X_train.shape)\n",
    "print(y_train.shape)\n",
    "print(X_test.shape)\n",
    "print(y_test.shape)"
   ]
  },
  {
   "cell_type": "code",
   "execution_count": 46,
   "id": "f13e87ac",
   "metadata": {},
   "outputs": [],
   "source": [
    "from sklearn.linear_model import LinearRegression\n",
    "regressor = LinearRegression()"
   ]
  },
  {
   "cell_type": "code",
   "execution_count": 47,
   "id": "7ab9fc1a",
   "metadata": {},
   "outputs": [
    {
     "data": {
      "text/plain": [
       "True"
      ]
     },
     "execution_count": 47,
     "metadata": {},
     "output_type": "execute_result"
    }
   ],
   "source": [
    "np.any(np.isnan(data))\n",
    "np.all(np.isfinite(data))"
   ]
  },
  {
   "cell_type": "code",
   "execution_count": 48,
   "id": "7b49f047",
   "metadata": {},
   "outputs": [
    {
     "data": {
      "text/html": [
       "<style>#sk-container-id-2 {color: black;background-color: white;}#sk-container-id-2 pre{padding: 0;}#sk-container-id-2 div.sk-toggleable {background-color: white;}#sk-container-id-2 label.sk-toggleable__label {cursor: pointer;display: block;width: 100%;margin-bottom: 0;padding: 0.3em;box-sizing: border-box;text-align: center;}#sk-container-id-2 label.sk-toggleable__label-arrow:before {content: \"▸\";float: left;margin-right: 0.25em;color: #696969;}#sk-container-id-2 label.sk-toggleable__label-arrow:hover:before {color: black;}#sk-container-id-2 div.sk-estimator:hover label.sk-toggleable__label-arrow:before {color: black;}#sk-container-id-2 div.sk-toggleable__content {max-height: 0;max-width: 0;overflow: hidden;text-align: left;background-color: #f0f8ff;}#sk-container-id-2 div.sk-toggleable__content pre {margin: 0.2em;color: black;border-radius: 0.25em;background-color: #f0f8ff;}#sk-container-id-2 input.sk-toggleable__control:checked~div.sk-toggleable__content {max-height: 200px;max-width: 100%;overflow: auto;}#sk-container-id-2 input.sk-toggleable__control:checked~label.sk-toggleable__label-arrow:before {content: \"▾\";}#sk-container-id-2 div.sk-estimator input.sk-toggleable__control:checked~label.sk-toggleable__label {background-color: #d4ebff;}#sk-container-id-2 div.sk-label input.sk-toggleable__control:checked~label.sk-toggleable__label {background-color: #d4ebff;}#sk-container-id-2 input.sk-hidden--visually {border: 0;clip: rect(1px 1px 1px 1px);clip: rect(1px, 1px, 1px, 1px);height: 1px;margin: -1px;overflow: hidden;padding: 0;position: absolute;width: 1px;}#sk-container-id-2 div.sk-estimator {font-family: monospace;background-color: #f0f8ff;border: 1px dotted black;border-radius: 0.25em;box-sizing: border-box;margin-bottom: 0.5em;}#sk-container-id-2 div.sk-estimator:hover {background-color: #d4ebff;}#sk-container-id-2 div.sk-parallel-item::after {content: \"\";width: 100%;border-bottom: 1px solid gray;flex-grow: 1;}#sk-container-id-2 div.sk-label:hover label.sk-toggleable__label {background-color: #d4ebff;}#sk-container-id-2 div.sk-serial::before {content: \"\";position: absolute;border-left: 1px solid gray;box-sizing: border-box;top: 0;bottom: 0;left: 50%;z-index: 0;}#sk-container-id-2 div.sk-serial {display: flex;flex-direction: column;align-items: center;background-color: white;padding-right: 0.2em;padding-left: 0.2em;position: relative;}#sk-container-id-2 div.sk-item {position: relative;z-index: 1;}#sk-container-id-2 div.sk-parallel {display: flex;align-items: stretch;justify-content: center;background-color: white;position: relative;}#sk-container-id-2 div.sk-item::before, #sk-container-id-2 div.sk-parallel-item::before {content: \"\";position: absolute;border-left: 1px solid gray;box-sizing: border-box;top: 0;bottom: 0;left: 50%;z-index: -1;}#sk-container-id-2 div.sk-parallel-item {display: flex;flex-direction: column;z-index: 1;position: relative;background-color: white;}#sk-container-id-2 div.sk-parallel-item:first-child::after {align-self: flex-end;width: 50%;}#sk-container-id-2 div.sk-parallel-item:last-child::after {align-self: flex-start;width: 50%;}#sk-container-id-2 div.sk-parallel-item:only-child::after {width: 0;}#sk-container-id-2 div.sk-dashed-wrapped {border: 1px dashed gray;margin: 0 0.4em 0.5em 0.4em;box-sizing: border-box;padding-bottom: 0.4em;background-color: white;}#sk-container-id-2 div.sk-label label {font-family: monospace;font-weight: bold;display: inline-block;line-height: 1.2em;}#sk-container-id-2 div.sk-label-container {text-align: center;}#sk-container-id-2 div.sk-container {/* jupyter's `normalize.less` sets `[hidden] { display: none; }` but bootstrap.min.css set `[hidden] { display: none !important; }` so we also need the `!important` here to be able to override the default hidden behavior on the sphinx rendered scikit-learn.org. See: https://github.com/scikit-learn/scikit-learn/issues/21755 */display: inline-block !important;position: relative;}#sk-container-id-2 div.sk-text-repr-fallback {display: none;}</style><div id=\"sk-container-id-2\" class=\"sk-top-container\"><div class=\"sk-text-repr-fallback\"><pre>LinearRegression()</pre><b>In a Jupyter environment, please rerun this cell to show the HTML representation or trust the notebook. <br />On GitHub, the HTML representation is unable to render, please try loading this page with nbviewer.org.</b></div><div class=\"sk-container\" hidden><div class=\"sk-item\"><div class=\"sk-estimator sk-toggleable\"><input class=\"sk-toggleable__control sk-hidden--visually\" id=\"sk-estimator-id-2\" type=\"checkbox\" checked><label for=\"sk-estimator-id-2\" class=\"sk-toggleable__label sk-toggleable__label-arrow\">LinearRegression</label><div class=\"sk-toggleable__content\"><pre>LinearRegression()</pre></div></div></div></div></div>"
      ],
      "text/plain": [
       "LinearRegression()"
      ]
     },
     "execution_count": 48,
     "metadata": {},
     "output_type": "execute_result"
    }
   ],
   "source": [
    "regressor.fit(X_train, y_train)"
   ]
  },
  {
   "cell_type": "code",
   "execution_count": 51,
   "id": "b23de475",
   "metadata": {},
   "outputs": [],
   "source": [
    "# Plotting the regression line\n",
    "line = regressor.coef_* X + regressor.intercept_ #Y= M*X + C"
   ]
  },
  {
   "cell_type": "code",
   "execution_count": 56,
   "id": "1e8c8ac1",
   "metadata": {},
   "outputs": [
    {
     "data": {
      "image/png": "[encoded data removed]",
      "text/plain": [
       "<Figure size 432x288 with 1 Axes>"
      ]
     },
     "metadata": {
      "needs_background": "light"
     },
     "output_type": "display_data"
    }
   ],
   "source": [
    "#Plotting the test data\n",
    "plt.scatter(X, y) \n",
    "plt.plot(X, line)\n",
    "plt.show()"
   ]
  },
  {
   "cell_type": "code",
   "execution_count": 18,
   "id": "3a91ace7",
   "metadata": {},
   "outputs": [
    {
     "name": "stdout",
     "output_type": "stream",
     "text": [
      "           input    output\n",
      "input   1.000000  0.511776\n",
      "output  0.511776  1.000000\n"
     ]
    }
   ],
   "source": [
    "print(data.corr())"
   ]
  },
  {
   "cell_type": "code",
   "execution_count": 57,
   "id": "e323fa1c",
   "metadata": {},
   "outputs": [
    {
     "name": "stdout",
     "output_type": "stream",
     "text": [
      "[39.59306732]\n"
     ]
    }
   ],
   "source": [
    "print(regressor.intercept_)"
   ]
  },
  {
   "cell_type": "code",
   "execution_count": 58,
   "id": "00a39596",
   "metadata": {},
   "outputs": [
    {
     "name": "stdout",
     "output_type": "stream",
     "text": [
      "[[0.90565985]]\n"
     ]
    }
   ],
   "source": [
    "print(regressor.coef_)"
   ]
  },
  {
   "cell_type": "code",
   "execution_count": 63,
   "id": "263d08f3",
   "metadata": {},
   "outputs": [
    {
     "name": "stdout",
     "output_type": "stream",
     "text": [
      "[[113.85717518]]\n"
     ]
    }
   ],
   "source": [
    "Output = regressor.predict([[82]])\n",
    "print(Output)"
   ]
  },
  {
   "cell_type": "code",
   "execution_count": 66,
   "id": "5be6ce11",
   "metadata": {},
   "outputs": [
    {
     "name": "stdout",
     "output_type": "stream",
     "text": [
      "Please enter the input value 68\n",
      "Input 68.0 values, you have a high chance of gettting a [[101.17793725]] Output.\n"
     ]
    }
   ],
   "source": [
    "# Instead of typing the value directly, we can ask for Study hours\n",
    "\n",
    "Output_ans = float(input('Please enter the input value '))\n",
    "Output = regressor.predict([[Output_ans]])\n",
    "print('Input {} values, you have a high chance of gettting a {} Output.'.format(Output_ans, Output)) "
   ]
  },
  {
   "cell_type": "code",
   "execution_count": 68,
   "id": "acd214de",
   "metadata": {},
   "outputs": [],
   "source": [
    "y_pred = regressor.predict(X_test)"
   ]
  },
  {
   "cell_type": "code",
   "execution_count": 69,
   "id": "c1ad6b01",
   "metadata": {},
   "outputs": [
    {
     "name": "stdout",
     "output_type": "stream",
     "text": [
      "         Actual   Predicted\n",
      "0    -58.914585   -9.054406\n",
      "1     71.160987   18.164362\n",
      "2     74.633331   20.574210\n",
      "3    117.596660  106.559601\n",
      "4    -12.307174  -21.363506\n",
      "..          ...         ...\n",
      "306  -87.268975    2.963409\n",
      "307    6.633331  -31.048401\n",
      "308  -31.366669   -7.501245\n",
      "309  -87.024104   13.953519\n",
      "310 -121.650403  -28.839803\n",
      "\n",
      "[311 rows x 2 columns]\n"
     ]
    }
   ],
   "source": [
    "data_preds = pd.DataFrame({'Actual': y_test.squeeze(), 'Predicted': y_pred.squeeze()})\n",
    "print(data_preds)"
   ]
  },
  {
   "cell_type": "code",
   "execution_count": 70,
   "id": "3592dbf0",
   "metadata": {},
   "outputs": [
    {
     "data": {
      "text/plain": [
       "array([[-9.05440567e+00],\n",
       "       [ 1.81643617e+01],\n",
       "       [ 2.05742104e+01],\n",
       "       [ 1.06559601e+02],\n",
       "       [-2.13635065e+01],\n",
       "       [-6.59558513e+00],\n",
       "       [-2.22189613e+00],\n",
       "       [ 7.28130206e+00],\n",
       "       [-3.90309261e+01],\n",
       "       [-6.11172201e-01],\n",
       "       [ 2.36389855e+00],\n",
       "       [ 8.87155975e+00],\n",
       "       [-1.56871850e+01],\n",
       "       [-1.31147782e+01],\n",
       "       [ 6.18311375e+01],\n",
       "       [-1.29375642e+01],\n",
       "       [ 1.79206463e+01],\n",
       "       [-4.78426543e+00],\n",
       "       [-2.75782649e+01],\n",
       "       [ 8.40863037e+01],\n",
       "       [-7.50124498e+00],\n",
       "       [-4.64446186e+01],\n",
       "       [ 6.41112381e+00],\n",
       "       [-4.67881468e+01],\n",
       "       [ 1.12509892e+02],\n",
       "       [-1.58042168e+01],\n",
       "       [-4.97479276e+01],\n",
       "       [ 3.86874075e+01],\n",
       "       [-2.22193477e+01],\n",
       "       [ 1.31523230e+01],\n",
       "       [-3.74701738e+01],\n",
       "       [-4.59192050e+01],\n",
       "       [ 2.60081695e+01],\n",
       "       [-1.28929071e+01],\n",
       "       [ 1.51402513e+01],\n",
       "       [-5.61452716e+01],\n",
       "       [-4.59502410e+00],\n",
       "       [ 6.48611238e+01],\n",
       "       [-4.85965946e+01],\n",
       "       [-4.09168226e+01],\n",
       "       [-3.92131867e+01],\n",
       "       [ 5.34671768e-01],\n",
       "       [ 2.16505462e+01],\n",
       "       [-2.19918026e+01],\n",
       "       [-6.07320759e+01],\n",
       "       [-4.64446186e+01],\n",
       "       [-1.11238844e+01],\n",
       "       [-2.69619839e+01],\n",
       "       [-6.00527521e+01],\n",
       "       [-1.48649867e+01],\n",
       "       [ 2.30081553e+01],\n",
       "       [-6.22235049e+00],\n",
       "       [ 2.46101339e+00],\n",
       "       [ 3.69572538e+00],\n",
       "       [-5.98460812e+01],\n",
       "       [-3.29002955e+01],\n",
       "       [-4.55389588e+01],\n",
       "       [-5.25368965e+01],\n",
       "       [ 1.16090610e+02],\n",
       "       [ 3.78372598e+01],\n",
       "       [ 1.21906271e+02],\n",
       "       [-4.91615982e+01],\n",
       "       [-2.92572953e+01],\n",
       "       [-2.55966167e-01],\n",
       "       [-2.46182115e+01],\n",
       "       [-4.64446186e+01],\n",
       "       [-6.40648386e+01],\n",
       "       [-4.64446186e+01],\n",
       "       [-6.40648386e+01],\n",
       "       [-1.47465238e+01],\n",
       "       [-6.27364555e+01],\n",
       "       [ 1.89455892e+00],\n",
       "       [-4.22798645e+01],\n",
       "       [-1.11238844e+01],\n",
       "       [-1.68350018e+01],\n",
       "       [-9.55050251e+00],\n",
       "       [ 1.17485473e+02],\n",
       "       [ 1.15605146e+02],\n",
       "       [-2.13635065e+01],\n",
       "       [-2.16016028e+01],\n",
       "       [-4.26918447e+01],\n",
       "       [ 9.70629220e+00],\n",
       "       [ 5.22723052e+01],\n",
       "       [-1.70894249e+01],\n",
       "       [ 5.13666454e+01],\n",
       "       [-5.09729179e+01],\n",
       "       [ 1.20196794e+02],\n",
       "       [-2.10861428e+01],\n",
       "       [-3.00810974e+01],\n",
       "       [-3.55762537e+01],\n",
       "       [ 4.13633962e+00],\n",
       "       [-4.41961050e+01],\n",
       "       [-2.83314216e+01],\n",
       "       [-3.42544708e+01],\n",
       "       [-6.87884855e+01],\n",
       "       [-1.74243269e+01],\n",
       "       [ 8.80063235e+00],\n",
       "       [-2.23615240e+01],\n",
       "       [-2.29917647e+01],\n",
       "       [ 1.31523230e+01],\n",
       "       [ 1.22498043e+02],\n",
       "       [-3.25734128e+01],\n",
       "       [-2.78825387e+01],\n",
       "       [ 8.30647402e+01],\n",
       "       [ 8.94043592e+01],\n",
       "       [-3.87860558e+00],\n",
       "       [ 7.42340310e+01],\n",
       "       [ 3.94872554e+01],\n",
       "       [ 1.02310067e+00],\n",
       "       [-2.61502639e+01],\n",
       "       [ 3.59110579e+01],\n",
       "       [-3.75361868e+01],\n",
       "       [-5.18785777e+01],\n",
       "       [-5.41986947e+01],\n",
       "       [-4.77755628e+01],\n",
       "       [ 1.11140196e+02],\n",
       "       [-5.59818828e+00],\n",
       "       [ 5.12569293e+01],\n",
       "       [ 8.30905991e+01],\n",
       "       [ 7.17831923e+01],\n",
       "       [-1.27741651e+01],\n",
       "       [-3.37653807e+01],\n",
       "       [ 9.40401091e+01],\n",
       "       [ 7.89497250e+00],\n",
       "       [-4.64446186e+01],\n",
       "       [-4.75461553e+01],\n",
       "       [-3.88855593e+01],\n",
       "       [ 2.33075491e+01],\n",
       "       [ 1.20196794e+02],\n",
       "       [-2.75782649e+01],\n",
       "       [-6.59965827e+01],\n",
       "       [-1.57767053e+01],\n",
       "       [ 9.51890266e+01],\n",
       "       [ 3.86874075e+01],\n",
       "       [ 8.62937065e+01],\n",
       "       [ 1.25007876e+01],\n",
       "       [ 1.15919357e+01],\n",
       "       [ 9.53705786e+00],\n",
       "       [-2.90135998e-01],\n",
       "       [-2.84065598e+01],\n",
       "       [ 2.38508684e+01],\n",
       "       [ 9.40555218e+00],\n",
       "       [ 1.06119521e+01],\n",
       "       [ 1.17049265e+02],\n",
       "       [ 1.33536828e+00],\n",
       "       [-3.64615090e+01],\n",
       "       [ 2.57920876e+01],\n",
       "       [ 1.16549958e+01],\n",
       "       [ 3.36908070e+01],\n",
       "       [-2.14203873e+01],\n",
       "       [-1.11238844e+01],\n",
       "       [ 7.94421008e+01],\n",
       "       [-3.16731333e+01],\n",
       "       [-1.53268131e+01],\n",
       "       [-6.25519726e+01],\n",
       "       [-5.29549083e+01],\n",
       "       [-9.05440567e+00],\n",
       "       [-3.19290421e+01],\n",
       "       [-4.41614065e+01],\n",
       "       [ 1.78044914e+01],\n",
       "       [-5.04649116e+01],\n",
       "       [ 7.89497250e+00],\n",
       "       [ 6.08033870e+01],\n",
       "       [-2.60016430e+01],\n",
       "       [ 2.31852014e+01],\n",
       "       [ 2.59307910e-01],\n",
       "       [-2.84392619e+01],\n",
       "       [ 3.23453074e+00],\n",
       "       [-4.11599983e+01],\n",
       "       [ 5.83949420e+01],\n",
       "       [ 2.36679257e+01],\n",
       "       [ 2.36389855e+00],\n",
       "       [-1.56521837e+01],\n",
       "       [ 6.08365280e+00],\n",
       "       [-5.80826317e+01],\n",
       "       [-2.99857300e+01],\n",
       "       [-6.27364555e+01],\n",
       "       [-6.25519726e+01],\n",
       "       [-2.47749814e+01],\n",
       "       [ 3.48366164e+01],\n",
       "       [-2.18326935e+01],\n",
       "       [-1.21662077e+01],\n",
       "       [ 5.61496794e+01],\n",
       "       [-3.01220834e+01],\n",
       "       [-3.82936799e+01],\n",
       "       [-4.14856635e+00],\n",
       "       [-4.50462691e+01],\n",
       "       [ 5.58949447e+01],\n",
       "       [-2.94477178e+00],\n",
       "       [-3.11279522e+01],\n",
       "       [-4.64446186e+01],\n",
       "       [-2.86005171e+01],\n",
       "       [-5.09729179e+01],\n",
       "       [-3.36139510e+01],\n",
       "       [ 6.22345636e+01],\n",
       "       [-3.16731333e+01],\n",
       "       [ 2.33719422e+01],\n",
       "       [-4.28219792e+01],\n",
       "       [-7.14680048e+01],\n",
       "       [ 7.49105627e+01],\n",
       "       [-2.01804829e+01],\n",
       "       [-9.64112600e-01],\n",
       "       [-5.00672580e+01],\n",
       "       [ 1.21530036e+02],\n",
       "       [-2.83314216e+01],\n",
       "       [ 6.92158349e+00],\n",
       "       [-2.62563650e+01],\n",
       "       [-7.36144142e+01],\n",
       "       [-3.87860558e+00],\n",
       "       [ 2.00405037e+00],\n",
       "       [ 8.06336645e+00],\n",
       "       [ 1.05898344e+02],\n",
       "       [-2.55966167e-01],\n",
       "       [-2.55966167e-01],\n",
       "       [-5.77634375e+01],\n",
       "       [-2.79250571e+01],\n",
       "       [ 1.22095809e+01],\n",
       "       [-1.81840413e+01],\n",
       "       [-1.16171684e+01],\n",
       "       [-1.47465238e+01],\n",
       "       [-1.48806217e+01],\n",
       "       [ 7.31024818e+01],\n",
       "       [-6.54634755e+01],\n",
       "       [ 2.23389218e+00],\n",
       "       [ 2.01325307e+01],\n",
       "       [-2.83314216e+01],\n",
       "       [-3.90309261e+01],\n",
       "       [-5.38746117e+01],\n",
       "       [-6.59558513e+00],\n",
       "       [-9.40233235e+00],\n",
       "       [-5.04316808e+01],\n",
       "       [-4.18462518e+01],\n",
       "       [-2.01804829e+01],\n",
       "       [-7.19796946e+00],\n",
       "       [ 6.40152577e+01],\n",
       "       [ 1.49797437e+01],\n",
       "       [-2.10861428e+01],\n",
       "       [ 1.06119521e+01],\n",
       "       [ 2.11840091e+01],\n",
       "       [ 9.11305987e+01],\n",
       "       [ 4.89424938e-01],\n",
       "       [-7.54833439e+01],\n",
       "       [ 5.48322486e+01],\n",
       "       [-4.59192050e+01],\n",
       "       [-3.35381181e+01],\n",
       "       [ 5.12569293e+01],\n",
       "       [-1.56521837e+01],\n",
       "       [-2.65004558e+01],\n",
       "       [-3.28839623e+01],\n",
       "       [ 2.05967275e+01],\n",
       "       [ 2.96308089e+01],\n",
       "       [ 9.00176434e+01],\n",
       "       [-3.82936799e+01],\n",
       "       [-1.16162602e+00],\n",
       "       [-4.04170825e+01],\n",
       "       [ 4.09458797e+01],\n",
       "       [ 3.40216973e+01],\n",
       "       [ 1.02789535e+02],\n",
       "       [ 1.32248584e+01],\n",
       "       [-5.80826317e+01],\n",
       "       [-6.63691354e+01],\n",
       "       [-2.37089711e+01],\n",
       "       [ 1.29525923e+01],\n",
       "       [ 1.06711686e+02],\n",
       "       [-7.82711651e+01],\n",
       "       [ 2.71482386e+01],\n",
       "       [-5.33516388e+01],\n",
       "       [-3.89966367e+01],\n",
       "       [ 7.07839684e+01],\n",
       "       [ 2.85407418e+01],\n",
       "       [-2.76824937e+01],\n",
       "       [ 3.73715825e+00],\n",
       "       [ 2.16556296e+01],\n",
       "       [ 2.16505462e+01],\n",
       "       [-2.01804829e+01],\n",
       "       [ 4.85344711e-02],\n",
       "       [-1.11238844e+01],\n",
       "       [-1.38408639e+01],\n",
       "       [-2.29917647e+01],\n",
       "       [-5.95134519e+01],\n",
       "       [-2.92370814e+01],\n",
       "       [-7.80874038e+01],\n",
       "       [-2.61502639e+01],\n",
       "       [-5.35278832e+01],\n",
       "       [ 2.60081695e+01],\n",
       "       [ 3.75233400e+00],\n",
       "       [ 5.53712371e+01],\n",
       "       [-3.91993398e+01],\n",
       "       [-4.64446186e+01],\n",
       "       [-5.31466776e+00],\n",
       "       [-9.55050251e+00],\n",
       "       [ 3.50436607e+01],\n",
       "       [-2.56144420e+01],\n",
       "       [-4.51513067e+01],\n",
       "       [-2.21560233e+01],\n",
       "       [ 2.38508684e+01],\n",
       "       [-3.54623174e+01],\n",
       "       [-8.93417656e+00],\n",
       "       [ 7.76307811e+01],\n",
       "       [-2.22189613e+00],\n",
       "       [-5.54496420e+01],\n",
       "       [-1.45869322e+01],\n",
       "       [ 8.38218182e+00],\n",
       "       [-2.65201019e+01],\n",
       "       [-1.56564584e+01],\n",
       "       [ 3.68760878e+01],\n",
       "       [ 2.96340943e+00],\n",
       "       [-3.10484011e+01],\n",
       "       [-7.50124498e+00],\n",
       "       [ 1.39535191e+01],\n",
       "       [-2.88398029e+01]])"
      ]
     },
     "execution_count": 70,
     "metadata": {},
     "output_type": "execute_result"
    }
   ],
   "source": [
    "predictions = regressor.predict(X_test)\n",
    "predictions"
   ]
  },
  {
   "cell_type": "code",
   "execution_count": 71,
   "id": "cc9ca634",
   "metadata": {},
   "outputs": [
    {
     "name": "stderr",
     "output_type": "stream",
     "text": [
      "C:\\Users\\user\\anaconda3\\lib\\site-packages\\seaborn\\_decorators.py:36: FutureWarning: Pass the following variables as keyword args: x, y. From version 0.12, the only valid positional argument will be `data`, and passing other arguments without an explicit keyword will result in an error or misinterpretation.\n",
      "  warnings.warn(\n"
     ]
    },
    {
     "data": {
      "text/plain": [
       "<AxesSubplot:>"
      ]
     },
     "execution_count": 71,
     "metadata": {},
     "output_type": "execute_result"
    },
    {
     "data": {
      "image/png": "[encoded data removed]",
      "text/plain": [
       "<Figure size 432x288 with 1 Axes>"
      ]
     },
     "metadata": {
      "needs_background": "light"
     },
     "output_type": "display_data"
    }
   ],
   "source": [
    "# Plot it\n",
    "sns.regplot(y_test,predictions)"
   ]
  },
  {
   "cell_type": "code",
   "execution_count": 72,
   "id": "fd7878c7",
   "metadata": {},
   "outputs": [],
   "source": [
    "from sklearn.metrics import mean_absolute_error, mean_squared_error"
   ]
  },
  {
   "cell_type": "code",
   "execution_count": 73,
   "id": "acaaadba",
   "metadata": {},
   "outputs": [],
   "source": [
    "mae = mean_absolute_error(y_test, y_pred)\n",
    "mse = mean_squared_error(y_test, y_pred)\n",
    "rmse = np.sqrt(mse)"
   ]
  },
  {
   "cell_type": "code",
   "execution_count": 74,
   "id": "5df2518e",
   "metadata": {},
   "outputs": [
    {
     "name": "stdout",
     "output_type": "stream",
     "text": [
      "Mean absolute error: 51.42\n",
      "Mean squared error: 3489.14\n",
      "Root mean squared error: 59.07\n"
     ]
    }
   ],
   "source": [
    "print(f'Mean absolute error: {mae:.2f}')\n",
    "print(f'Mean squared error: {mse:.2f}')\n",
    "print(f'Root mean squared error: {rmse:.2f}')"
   ]
  },
  {
   "cell_type": "code",
   "execution_count": null,
   "id": "ac38ada1",
   "metadata": {},
   "outputs": [],
   "source": []
  }
 ],
 "metadata": {
  "kernelspec": {
   "display_name": "Python 3 (ipykernel)",
   "language": "python",
   "name": "python3"
  },
  "language_info": {
   "codemirror_mode": {
    "name": "ipython",
    "version": 3
   },
   "file_extension": ".py",
   "mimetype": "text/x-python",
   "name": "python",
   "nbconvert_exporter": "python",
   "pygments_lexer": "ipython3",
   "version": "3.9.12"
  }
 },
 "nbformat": 4,
 "nbformat_minor": 5
}
